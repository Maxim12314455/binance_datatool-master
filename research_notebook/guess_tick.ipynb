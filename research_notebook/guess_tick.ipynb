{
 "cells": [
  {
   "cell_type": "code",
   "execution_count": null,
   "metadata": {},
   "outputs": [],
   "source": [
    "import json\n",
    "import os\n",
    "from decimal import Decimal\n",
    "from pprint import pprint\n",
    "\n",
    "import pandas as pd\n",
    "\n",
    "from config import Config"
   ]
  },
  {
   "cell_type": "code",
   "execution_count": null,
   "metadata": {},
   "outputs": [],
   "source": [
    "# trade_type = 'usdt_futures'\n",
    "trade_type = 'spot'\n",
    "cfg_symbols = sorted(json.load(open(f'{Config.BINANCE_DATA_DIR}/exginfo/{trade_type}.json')).keys())\n",
    "ss = os.listdir(f'{Config.BINANCE_DATA_DIR}/candle_parquet_fixed/{trade_type}/1h')\n",
    "ss = [s.split('.')[0] for s in ss]\n",
    "missing_symbols = sorted(set(ss) - set(cfg_symbols))\n",
    "print(missing_symbols)"
   ]
  },
  {
   "cell_type": "code",
   "execution_count": null,
   "metadata": {},
   "outputs": [],
   "source": [
    "def guess(p, col):\n",
    "    df = pd.read_parquet(p)\n",
    "    c = df[col]\n",
    "    tick = Decimal('1')\n",
    "    while True:\n",
    "        abs_rel_err = (c.round() / c - 1).abs()\n",
    "        if abs_rel_err.max() <= 1e-8:\n",
    "            return str(tick)\n",
    "            break\n",
    "        tick /= 10\n",
    "        c *= 10\n",
    "    \n",
    "d = dict()\n",
    "\n",
    "for symbol in missing_symbols:\n",
    "    p = f'{Config.BINANCE_DATA_DIR}/candle_parquet_fixed/{trade_type}/1h/{symbol}.pqt'\n",
    "    d[symbol] = {\n",
    "        \"price_tick\": guess(p, 'close'),\n",
    "        \"lot_size\": guess(p, 'volume'),\n",
    "        \"min_notional_value\": \"5\"\n",
    "    }    \n",
    "\n",
    "pprint(d)"
   ]
  }
 ],
 "metadata": {
  "kernelspec": {
   "display_name": "crypto",
   "language": "python",
   "name": "python3"
  },
  "language_info": {
   "codemirror_mode": {
    "name": "ipython",
    "version": 3
   },
   "file_extension": ".py",
   "mimetype": "text/x-python",
   "name": "python",
   "nbconvert_exporter": "python",
   "pygments_lexer": "ipython3",
   "version": "3.11.7"
  }
 },
 "nbformat": 4,
 "nbformat_minor": 2
}
