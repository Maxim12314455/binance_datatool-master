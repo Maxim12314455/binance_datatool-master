{
 "cells": [
  {
   "cell_type": "code",
   "execution_count": null,
   "id": "9a894e85-871d-4c8d-9e88-58cbff2764e7",
   "metadata": {},
   "outputs": [],
   "source": [
    "import os\n",
    "\n",
    "import pandas as pd\n",
    "\n",
    "from config import Config\n",
    "\n",
    "_DIR = Config.BINANCE_DATA_DIR\n",
    "SPOT_DIR = os.path.join(_DIR, 'candle_parquet_fixed', 'spot', '1h')\n",
    "USDT_FUTURES_DIR = os.path.join(_DIR, 'candle_parquet_fixed', 'usdt_futures', '1h')\n",
    "\n",
    "print(SPOT_DIR)"
   ]
  },
  {
   "cell_type": "code",
   "execution_count": null,
   "id": "7ab2fa79-be61-42bc-912c-c8d1bb845ce7",
   "metadata": {},
   "outputs": [],
   "source": [
    "def read(type_, symbol):\n",
    "    if type_ == 'spot':\n",
    "        df = pd.read_parquet(os.path.join(SPOT_DIR, f'{symbol}.pqt'))\n",
    "    elif type_ == 'usdt_futures':\n",
    "        df = pd.read_parquet(os.path.join(USDT_FUTURES_DIR, f'{symbol}.pqt'))\n",
    "\n",
    "    df = df[df['volume'] > 0]\n",
    "    return df[['candle_begin_time', 'open', 'high', 'low', 'close', 'volume']]\n",
    "\n",
    "\n",
    "read('spot', 'VIDTUSDT').loc['2022-10-31 02:00:00+00:00':].head()"
   ]
  },
  {
   "cell_type": "code",
   "execution_count": null,
   "id": "13d2a410-61ef-4f69-81eb-2b4cca72343f",
   "metadata": {},
   "outputs": [],
   "source": [
    "def check(df):\n",
    "    df['time_diff'] = df['candle_begin_time'].diff()\n",
    "\n",
    "    gaps = []\n",
    "    idxes = df[df['time_diff'] > df['time_diff'].min()].index\n",
    "    for idx in idxes:\n",
    "        tail = df.loc[:idx].tail(2)\n",
    "        time_before = tail.index[0]\n",
    "        time_after = tail.iloc[1]['candle_begin_time']\n",
    "        time_gap = time_after - time_before\n",
    "        price_change = tail.iloc[1]['open'] / tail.iloc[0]['close'] - 1\n",
    "        gaps.append((time_before, time_after, time_gap, price_change))\n",
    "\n",
    "    completeness = len(df) / ((df.index[-1] - df['candle_begin_time'].iloc[0]) // pd.Timedelta(hours=1))\n",
    "    return pd.DataFrame(gaps, columns=['delist_time', 'relist_time', 'time_gap', 'price_change']), completeness\n",
    "\n",
    "def check_gaps(type_, symbol):\n",
    "    df = read(type_, symbol)\n",
    "    df_result, completeness = check(df)\n",
    "    df_result['type'] = type_\n",
    "    df_result['symbol'] = symbol\n",
    "    return df_result, completeness\n",
    "\n",
    "\n",
    "df_check, completeness = check_gaps('spot', 'VIDTUSDT')\n",
    "print(completeness)\n",
    "display(df_check)"
   ]
  },
  {
   "cell_type": "code",
   "execution_count": null,
   "id": "26c3788e",
   "metadata": {},
   "outputs": [],
   "source": [
    "df_check, completeness = check_gaps('spot', 'VENUSDT')\n",
    "print(completeness)\n",
    "display(df_check.sort_values('price_change'))\n",
    "\n",
    "read('spot', 'VENUSDT')"
   ]
  },
  {
   "cell_type": "code",
   "execution_count": null,
   "id": "2bf795c6-e5a4-4247-99cf-398f535a7d4c",
   "metadata": {},
   "outputs": [],
   "source": [
    "STABLECOINS = {'BKRWUSDT', 'USDCUSDT', 'USDPUSDT', 'TUSDUSDT', 'BUSDUSDT', 'FDUSDUSDT', 'DAIUSDT', 'EURUSDT', 'GBPUSDT',\n",
    "               'USBPUSDT', 'SUSDUSDT', 'PAXGUSDT', 'AEURUSDT', 'USDSUSDT', 'USDSBUSDT'}\n",
    "\n",
    "BLACKLIST = {}\n",
    "\n",
    "def filter_symbols(symbols):\n",
    "    lev_symbols = {x for x in symbols if x.endswith(('UPUSDT', 'DOWNUSDT', 'BEARUSDT', 'BULLUSDT')) and x != 'JUPUSDT'}\n",
    "    not_usdt_symbols = {x for x in symbols if not x.endswith('USDT')}\n",
    "\n",
    "    excludes = set.union(not_usdt_symbols, lev_symbols, STABLECOINS, BLACKLIST).intersection(symbols)\n",
    "\n",
    "    symbols_filtered = sorted(set(symbols) - excludes)\n",
    "    return symbols_filtered\n",
    "\n",
    "def get_filtered_symbols(type_):\n",
    "    if type_ == 'spot':\n",
    "        input_dir = SPOT_DIR\n",
    "    elif type_ == 'usdt_futures':\n",
    "        input_dir = USDT_FUTURES_DIR\n",
    "    else:\n",
    "        raise ValueError('%s is not supported', type_)\n",
    "\n",
    "    symbols = sorted(os.path.splitext(x)[0] for x in os.listdir(input_dir))\n",
    "    symbols = filter_symbols(symbols)\n",
    "    return symbols\n",
    "\n",
    "get_filtered_symbols('spot')[:5]"
   ]
  },
  {
   "cell_type": "code",
   "execution_count": null,
   "id": "f9e8e5c3-430b-4778-8cc3-16cf78b6c6c8",
   "metadata": {},
   "outputs": [],
   "source": [
    "symbols = get_filtered_symbols('spot')\n",
    "\n",
    "for symbol in symbols:\n",
    "    df_check, completeness = check_gaps('spot', symbol)\n",
    "    if completeness < 0.95 or df_check['price_change'].abs().max() > 0.06:\n",
    "        print(symbol, completeness, len(df_check))\n",
    "        display(df_check[df_check['price_change'].abs() > 0.06])\n",
    "\n",
    "# dfs = [check_gaps('spot',  symbol) for symbol in symbols]\n",
    "# dfs = [df for df in dfs if len(df)]\n",
    "# df_gap = pd.concat(dfs, ignore_index=True)\n",
    "\n",
    "# threshold = pd.Timedelta(days=2)\n",
    "\n",
    "# df_gap_short = df_gap[df_gap['time_gap'] <  threshold]\n",
    "# df_gap_long = df_gap[df_gap['time_gap'] >= threshold].reset_index(drop=True)\n",
    "\n",
    "# print(df_gap_long.to_markdown(index=False))"
   ]
  },
  {
   "cell_type": "code",
   "execution_count": null,
   "id": "8a52f0e5",
   "metadata": {},
   "outputs": [],
   "source": [
    "symbols = get_filtered_symbols('spot')\n",
    "\n",
    "for symbol in symbols:\n",
    "    df_check, completeness = check_gaps('spot', symbol)\n",
    "    # if completeness < 1:\n",
    "        # print(symbol, completeness, len(df_check))\n",
    "    if completeness < 0.95 or df_check['price_change'].abs().max() > 0.06:\n",
    "        display(df_check.sort_values('price_change', key=abs).tail())\n"
   ]
  },
  {
   "cell_type": "code",
   "execution_count": null,
   "id": "0c491d05",
   "metadata": {},
   "outputs": [],
   "source": [
    "symbols = get_filtered_symbols('usdt_futures')\n",
    "\n",
    "for symbol in symbols:\n",
    "    df_check, completeness = check_gaps('usdt_futures', symbol)\n",
    "    if completeness < 1:\n",
    "        print(symbol, completeness, len(df_check))\n",
    "    # if completeness < 0.95 or df_check['price_change'].abs().max() > 0.06:\n",
    "        display(df_check.sort_values('price_change', key=abs).tail())\n"
   ]
  }
 ],
 "metadata": {
  "kernelspec": {
   "display_name": "Python 3 (ipykernel)",
   "language": "python",
   "name": "python3"
  },
  "language_info": {
   "codemirror_mode": {
    "name": "ipython",
    "version": 3
   },
   "file_extension": ".py",
   "mimetype": "text/x-python",
   "name": "python",
   "nbconvert_exporter": "python",
   "pygments_lexer": "ipython3",
   "version": "3.10.14"
  }
 },
 "nbformat": 4,
 "nbformat_minor": 5
}
